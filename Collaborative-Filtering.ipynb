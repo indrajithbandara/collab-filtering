{
 "cells": [
  {
   "cell_type": "code",
   "execution_count": 1,
   "metadata": {
    "collapsed": false
   },
   "outputs": [],
   "source": [
    "import pandas as pd\n",
    "import numpy as np\n",
    "import seaborn as sns\n",
    "import matplotlib.pyplot as plt\n",
    "%matplotlib inline"
   ]
  },
  {
   "cell_type": "code",
   "execution_count": 2,
   "metadata": {
    "collapsed": true
   },
   "outputs": [],
   "source": [
    "from scipy.io import loadmat"
   ]
  },
  {
   "cell_type": "code",
   "execution_count": 3,
   "metadata": {
    "collapsed": true
   },
   "outputs": [],
   "source": [
    "jokes_train = loadmat('./data/kaggle77b_trainset.mat')\n",
    "jokes_test = loadmat('./data/kaggle77b_testset.mat')"
   ]
  },
  {
   "cell_type": "code",
   "execution_count": 4,
   "metadata": {
    "collapsed": false
   },
   "outputs": [
    {
     "data": {
      "text/plain": [
       "array([[ -7.82,   8.79,  -9.66, ...,  99.  ,  99.  ,  99.  ],\n",
       "       [  4.08,  -0.29,   6.36, ...,   0.34,  -4.32,   1.07],\n",
       "       [ 99.  ,  99.  ,  99.  , ...,  99.  ,  99.  ,  99.  ],\n",
       "       ..., \n",
       "       [  9.13,  -8.16,   8.59, ...,  -8.59,   9.13,   8.45],\n",
       "       [ 99.  ,  99.  ,  99.  , ...,  99.  ,  99.  ,  99.  ],\n",
       "       [ 99.  ,  99.  ,  99.  , ...,  99.  ,  99.  ,  99.  ]])"
      ]
     },
     "execution_count": 4,
     "metadata": {},
     "output_type": "execute_result"
    }
   ],
   "source": [
    "jokes_train['trainset']"
   ]
  },
  {
   "cell_type": "code",
   "execution_count": 5,
   "metadata": {
    "collapsed": true
   },
   "outputs": [],
   "source": [
    "from math import pow, sqrt"
   ]
  },
  {
   "cell_type": "code",
   "execution_count": 42,
   "metadata": {
    "collapsed": false
   },
   "outputs": [],
   "source": [
    "def euclidean(ratings, item1, item2):\n",
    "    si = {}\n",
    "    \n",
    "    for i in range(len(ratings[item1])):\n",
    "        if ratings[item1][i] <= 10 and ratings[item2][i] <= 10:\n",
    "            si[i] = 1\n",
    "    \n",
    "    # if they have no rating in common, return 0\n",
    "    if len(si) == 0: return 0\n",
    "    \n",
    "    sum_of_squares = sum([pow(ratings[item1][index] - ratings[item2][index], 2)\n",
    "                         for index in range(len(ratings[item1])) if index in si])\n",
    "    \n",
    "    return 1 / ( 1 + sqrt(sum_of_squares))"
   ]
  },
  {
   "cell_type": "code",
   "execution_count": 99,
   "metadata": {
    "collapsed": true
   },
   "outputs": [],
   "source": [
    "def pearson(ratings, item1, item2):\n",
    "    # Get the list of mutually rated items\n",
    "    si={}\n",
    "    for i in range(len(ratings[item1])):\n",
    "        if ratings[item1][i] <= 10 and ratings[item2][i] <= 10: si[i] = 1\n",
    "    \n",
    "    # Find the number of elements\n",
    "    n=len(si)\n",
    "    \n",
    "    # if they are no ratings in common, return 0\n",
    "    if n==0: return 0\n",
    "    \n",
    "    # Add up all the preferences\n",
    "    sum1=sum([ratings[item1][user] for user in si])\n",
    "    sum2=sum([ratings[item2][user] for user in si])\n",
    "    \n",
    "    # Sum up the squares\n",
    "    sum1Sq=sum([pow(ratings[item1][user],2) for user in si])\n",
    "    sum2Sq=sum([pow(ratings[item2][user],2) for user in si])\n",
    "    \n",
    "    # Sum up the products\n",
    "    pSum=sum([ratings[item1][user]*ratings[item2][user] for user in si])\n",
    "    \n",
    "    # Calculate Pearson score\n",
    "    num=pSum-(sum1*sum2/n)\n",
    "    den=sqrt((sum1Sq-pow(sum1,2)/n)*(sum2Sq-pow(sum2,2)/n))\n",
    "    \n",
    "    if den==0: return 0\n",
    "    \n",
    "    r=num/den\n",
    "    \n",
    "    return r"
   ]
  },
  {
   "cell_type": "code",
   "execution_count": 100,
   "metadata": {
    "collapsed": true
   },
   "outputs": [],
   "source": [
    "def topMatches(ratings, item, n=5, similarity=euclidean):\n",
    "    scores = [(similarity(ratings, item, other), other)\n",
    "                for other in range(len(ratings)) if other != item]\n",
    "    \n",
    "    # sort the list so the highest scores appear at the top\n",
    "    scores.sort()\n",
    "    scores.reverse()\n",
    "    \n",
    "    return scores[0:n]"
   ]
  },
  {
   "cell_type": "code",
   "execution_count": 105,
   "metadata": {
    "collapsed": true
   },
   "outputs": [],
   "source": [
    "def calculateSimilarItems(prefs, n=50, similarity=euclidean):\n",
    "    # Create a dictionary of items showing which other items they\n",
    "    # are most similar to.\n",
    "    result={}\n",
    "    \n",
    "    for item in range(len(prefs)):\n",
    "        # Find most similar items to this one\n",
    "        scores = topMatches(prefs, item, n=n, similarity=similarity)\n",
    "        result[item] = scores\n",
    "    \n",
    "    return result"
   ]
  },
  {
   "cell_type": "code",
   "execution_count": 106,
   "metadata": {
    "collapsed": true
   },
   "outputs": [],
   "source": [
    "ratings_train = jokes_train['trainset']\n",
    "ratings_test = jokes_test['testset']"
   ]
  },
  {
   "cell_type": "code",
   "execution_count": 107,
   "metadata": {
    "collapsed": true
   },
   "outputs": [],
   "source": [
    "ratings_train_copy = ratings_train.copy()"
   ]
  },
  {
   "cell_type": "code",
   "execution_count": 108,
   "metadata": {
    "collapsed": true
   },
   "outputs": [],
   "source": [
    "ratings_train_transposed = ratings_train_copy.T"
   ]
  },
  {
   "cell_type": "code",
   "execution_count": 110,
   "metadata": {
    "collapsed": false
   },
   "outputs": [],
   "source": [
    "item_sim = calculateSimilarItems(ratings_train_transposed, 20, similarity=pearson)"
   ]
  },
  {
   "cell_type": "code",
   "execution_count": 111,
   "metadata": {
    "collapsed": false
   },
   "outputs": [],
   "source": [
    "ratings_test_copy = ratings_test.copy()"
   ]
  },
  {
   "cell_type": "code",
   "execution_count": 112,
   "metadata": {
    "collapsed": true
   },
   "outputs": [],
   "source": [
    "ratings_test_transposed = ratings_test_copy.T"
   ]
  },
  {
   "cell_type": "code",
   "execution_count": 116,
   "metadata": {
    "collapsed": true
   },
   "outputs": [],
   "source": [
    "def get_rating(items, ratings_train, user):\n",
    "    total = 0\n",
    "    count = 0\n",
    "    \n",
    "    for score, other in items:\n",
    "        if ratings_train[other][user] <= 10:\n",
    "            total += ratings_train[other][user]\n",
    "            count += 1.\n",
    "            \n",
    "    return total / (1 + count)"
   ]
  },
  {
   "cell_type": "code",
   "execution_count": 117,
   "metadata": {
    "collapsed": true
   },
   "outputs": [],
   "source": [
    "def fill_ratings(ratings, item_sim, ratings_train):\n",
    "    submission = {}\n",
    "    \n",
    "    for user in range(len(ratings[0])):\n",
    "        submission[user] = []\n",
    "    \n",
    "    for item in range(len(ratings)):\n",
    "        for user in range(len(ratings[0])):\n",
    "            if ratings[item][user] == 55:\n",
    "                submission[user].append(get_rating(item_sim[item], ratings_train, user))\n",
    "    \n",
    "    return submission"
   ]
  },
  {
   "cell_type": "code",
   "execution_count": 118,
   "metadata": {
    "collapsed": false
   },
   "outputs": [],
   "source": [
    "submission = fill_ratings(ratings_test_transposed, item_sim, ratings_train_transposed)"
   ]
  },
  {
   "cell_type": "code",
   "execution_count": 119,
   "metadata": {
    "collapsed": true
   },
   "outputs": [],
   "source": [
    "def prepare_submission(submission):\n",
    "    userId = []\n",
    "    rating1 = []\n",
    "    rating2 = []\n",
    "    rating3 = []\n",
    "    \n",
    "    for user, ratings in submission.iteritems():\n",
    "        userId.append(user + 1)\n",
    "        rating1.append(ratings[0])\n",
    "        rating2.append(ratings[1])\n",
    "        rating3.append(ratings[2])\n",
    "    \n",
    "    sub_df = pd.DataFrame({'UserId': userId, 'Rating1': rating1, 'Rating2': rating2, 'Rating3': rating3})\n",
    "    \n",
    "    return sub_df"
   ]
  },
  {
   "cell_type": "code",
   "execution_count": 120,
   "metadata": {
    "collapsed": false
   },
   "outputs": [],
   "source": [
    "sub_df = prepare_submission(submission)"
   ]
  },
  {
   "cell_type": "code",
   "execution_count": 98,
   "metadata": {
    "collapsed": false
   },
   "outputs": [],
   "source": [
    "sub_df.to_csv('./submission/second.csv', index=False)"
   ]
  },
  {
   "cell_type": "code",
   "execution_count": null,
   "metadata": {
    "collapsed": true
   },
   "outputs": [],
   "source": []
  }
 ],
 "metadata": {
  "kernelspec": {
   "display_name": "Python 2",
   "language": "python",
   "name": "python2"
  },
  "language_info": {
   "codemirror_mode": {
    "name": "ipython",
    "version": 2
   },
   "file_extension": ".py",
   "mimetype": "text/x-python",
   "name": "python",
   "nbconvert_exporter": "python",
   "pygments_lexer": "ipython2",
   "version": "2.7.6"
  }
 },
 "nbformat": 4,
 "nbformat_minor": 0
}
